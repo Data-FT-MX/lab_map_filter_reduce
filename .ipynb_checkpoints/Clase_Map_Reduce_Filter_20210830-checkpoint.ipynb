{
 "cells": [
  {
   "cell_type": "markdown",
   "id": "98e9759d",
   "metadata": {},
   "source": [
    "# Map\n",
    "### Map= Matehematical application\n",
    "### Map(function,iterable)"
   ]
  },
  {
   "cell_type": "code",
   "execution_count": 1,
   "id": "ce060955",
   "metadata": {},
   "outputs": [],
   "source": [
    "def sumar(x):\n",
    "    return x+10\n"
   ]
  },
  {
   "cell_type": "code",
   "execution_count": 3,
   "id": "506f0403",
   "metadata": {},
   "outputs": [
    {
     "data": {
      "text/plain": [
       "[0, 1, 2, 3, 4, 5, 6, 7, 8, 9]"
      ]
     },
     "execution_count": 3,
     "metadata": {},
     "output_type": "execute_result"
    }
   ],
   "source": [
    "lista=[i for i in range(10)]\n",
    "lista"
   ]
  },
  {
   "cell_type": "code",
   "execution_count": 4,
   "id": "bb08aa02",
   "metadata": {},
   "outputs": [
    {
     "data": {
      "text/plain": [
       "<map at 0x2356283d430>"
      ]
     },
     "execution_count": 4,
     "metadata": {},
     "output_type": "execute_result"
    }
   ],
   "source": [
    "map(sumar, lista)"
   ]
  },
  {
   "cell_type": "code",
   "execution_count": 5,
   "id": "9a540b68",
   "metadata": {},
   "outputs": [
    {
     "data": {
      "text/plain": [
       "[10, 11, 12, 13, 14, 15, 16, 17, 18, 19]"
      ]
     },
     "execution_count": 5,
     "metadata": {},
     "output_type": "execute_result"
    }
   ],
   "source": [
    "list(map(sumar,lista))"
   ]
  },
  {
   "cell_type": "code",
   "execution_count": 6,
   "id": "d0da5c4e",
   "metadata": {},
   "outputs": [
    {
     "data": {
      "text/plain": [
       "[10, 11, 12, 13, 14, 15, 16, 17, 18, 19]"
      ]
     },
     "execution_count": 6,
     "metadata": {},
     "output_type": "execute_result"
    }
   ],
   "source": [
    "list(map(lambda x: x+10, lista))"
   ]
  },
  {
   "cell_type": "code",
   "execution_count": 7,
   "id": "50d6622f",
   "metadata": {},
   "outputs": [
    {
     "data": {
      "text/plain": [
       "<map at 0x2356279cca0>"
      ]
     },
     "execution_count": 7,
     "metadata": {},
     "output_type": "execute_result"
    }
   ],
   "source": [
    "sumar_10 = map(sumar,lista)\n",
    "sumar_10"
   ]
  },
  {
   "cell_type": "code",
   "execution_count": 8,
   "id": "d9555f2f",
   "metadata": {},
   "outputs": [
    {
     "data": {
      "text/plain": [
       "10"
      ]
     },
     "execution_count": 8,
     "metadata": {},
     "output_type": "execute_result"
    }
   ],
   "source": [
    "next(sumar_10)"
   ]
  },
  {
   "cell_type": "code",
   "execution_count": 9,
   "id": "5be101cf",
   "metadata": {},
   "outputs": [
    {
     "data": {
      "text/plain": [
       "11"
      ]
     },
     "execution_count": 9,
     "metadata": {},
     "output_type": "execute_result"
    }
   ],
   "source": [
    "sumar_10.__next__()"
   ]
  },
  {
   "cell_type": "code",
   "execution_count": 10,
   "id": "5c87f48a",
   "metadata": {},
   "outputs": [
    {
     "name": "stdout",
     "output_type": "stream",
     "text": [
      "0\n",
      "1\n",
      "8\n",
      "27\n",
      "64\n",
      "125\n",
      "216\n",
      "343\n"
     ]
    }
   ],
   "source": [
    "for e in map(lambda x: x**3,lista):\n",
    "    if e<500:\n",
    "        print(e)\n",
    "    else:\n",
    "        break"
   ]
  },
  {
   "cell_type": "code",
   "execution_count": 12,
   "id": "8348b28b",
   "metadata": {},
   "outputs": [
    {
     "name": "stdout",
     "output_type": "stream",
     "text": [
      "[0, 1, 2, 3]\n",
      "[0, 2, 4, 6, 8]\n",
      "[0, 2, 4, 6]\n"
     ]
    }
   ],
   "source": [
    "primera_lista =[i for i in range(4)]\n",
    "segunda_lista =[i for i in range(0,10,2)]\n",
    "tercera_lista =[i for i in range(0,8,2)]\n",
    "\n",
    "print(primera_lista)\n",
    "print(segunda_lista)\n",
    "print(tercera_lista )"
   ]
  },
  {
   "cell_type": "code",
   "execution_count": 13,
   "id": "df1c1997",
   "metadata": {},
   "outputs": [
    {
     "data": {
      "text/plain": [
       "[0, 4, 32, 108]"
      ]
     },
     "execution_count": 13,
     "metadata": {},
     "output_type": "execute_result"
    }
   ],
   "source": [
    "#Itera el mismo número de elementos de la lista de menor tamaño\n",
    "list(map(lambda x, y, z: x*y*z, primera_lista, segunda_lista, tercera_lista))"
   ]
  },
  {
   "cell_type": "code",
   "execution_count": 15,
   "id": "ac65d7d1",
   "metadata": {},
   "outputs": [
    {
     "data": {
      "text/plain": [
       "[['Esto', 'es', 'un', 'texto'],\n",
       " ['Me', 'gusta', 'el', 'pan'],\n",
       " ['Es', 'lunes,', 'wiii!']]"
      ]
     },
     "execution_count": 15,
     "metadata": {},
     "output_type": "execute_result"
    }
   ],
   "source": [
    "texto = ['Esto es un texto', 'Me gusta el pan', 'Es lunes, wiii!']\n",
    "split_texto = list(map(lambda s: s.split(),texto))\n",
    "split_texto"
   ]
  },
  {
   "cell_type": "markdown",
   "id": "d17b5c39",
   "metadata": {},
   "source": [
    "# Filter\n",
    "#### filter(function, iterable)"
   ]
  },
  {
   "cell_type": "raw",
   "id": "3351175c",
   "metadata": {},
   "source": [
    "#Funcion debe devolver un booleano, es decir True o False"
   ]
  },
  {
   "cell_type": "code",
   "execution_count": 16,
   "id": "70fed1c2",
   "metadata": {},
   "outputs": [],
   "source": [
    "def par (n):\n",
    "    if n%2==0:\n",
    "        return True\n",
    "    "
   ]
  },
  {
   "cell_type": "code",
   "execution_count": 19,
   "id": "4236aaae",
   "metadata": {},
   "outputs": [
    {
     "data": {
      "text/plain": [
       "[0, 1, 2, 3, 4, 5, 6, 7, 8, 9, 10, 11, 12, 13, 14, 15, 16, 17, 18, 19, 20]"
      ]
     },
     "execution_count": 19,
     "metadata": {},
     "output_type": "execute_result"
    }
   ],
   "source": [
    "numeros =[i for i in range (0,21)]\n",
    "numeros"
   ]
  },
  {
   "cell_type": "code",
   "execution_count": 20,
   "id": "cbb48664",
   "metadata": {},
   "outputs": [
    {
     "data": {
      "text/plain": [
       "<filter at 0x23562779ee0>"
      ]
     },
     "execution_count": 20,
     "metadata": {},
     "output_type": "execute_result"
    }
   ],
   "source": [
    "filter(par, numeros)"
   ]
  },
  {
   "cell_type": "code",
   "execution_count": 21,
   "id": "73d7f693",
   "metadata": {},
   "outputs": [
    {
     "data": {
      "text/plain": [
       "[0, 2, 4, 6, 8, 10, 12, 14, 16, 18, 20]"
      ]
     },
     "execution_count": 21,
     "metadata": {},
     "output_type": "execute_result"
    }
   ],
   "source": [
    "list(filter(par,numeros))"
   ]
  },
  {
   "cell_type": "code",
   "execution_count": 22,
   "id": "e8942524",
   "metadata": {},
   "outputs": [],
   "source": [
    "numeros = [1,2,4,5,6,7.8,9.1,21.25]"
   ]
  },
  {
   "cell_type": "code",
   "execution_count": 23,
   "id": "9e2eb695",
   "metadata": {},
   "outputs": [
    {
     "data": {
      "text/plain": [
       "True"
      ]
     },
     "execution_count": 23,
     "metadata": {},
     "output_type": "execute_result"
    }
   ],
   "source": [
    "#Evaluar si un elemento es de cierto tipo\n",
    "isinstance(10.21,float)"
   ]
  },
  {
   "cell_type": "code",
   "execution_count": 26,
   "id": "70439699",
   "metadata": {},
   "outputs": [],
   "source": [
    "def decimal(x):\n",
    "    return isinstance(x,float)\n"
   ]
  },
  {
   "cell_type": "code",
   "execution_count": 27,
   "id": "c2f692ea",
   "metadata": {},
   "outputs": [
    {
     "data": {
      "text/plain": [
       "[7.8, 9.1, 21.25]"
      ]
     },
     "execution_count": 27,
     "metadata": {},
     "output_type": "execute_result"
    }
   ],
   "source": [
    "list(filter(decimal, numeros))#solo asigna los que son true"
   ]
  },
  {
   "cell_type": "code",
   "execution_count": 28,
   "id": "2b1a159f",
   "metadata": {},
   "outputs": [
    {
     "data": {
      "text/plain": [
       "[False, False, False, False, False, True, True, True]"
      ]
     },
     "execution_count": 28,
     "metadata": {},
     "output_type": "execute_result"
    }
   ],
   "source": [
    "list(map(decimal,numeros))"
   ]
  },
  {
   "cell_type": "code",
   "execution_count": 29,
   "id": "b8e11292",
   "metadata": {},
   "outputs": [],
   "source": [
    "list_string = ['hola Perla', 'adios Richo','Tengo hambre', 'hola mundo']"
   ]
  },
  {
   "cell_type": "code",
   "execution_count": 31,
   "id": "c40ed6c6",
   "metadata": {},
   "outputs": [
    {
     "data": {
      "text/plain": [
       "['hola Perla', 'hola mundo']"
      ]
     },
     "execution_count": 31,
     "metadata": {},
     "output_type": "execute_result"
    }
   ],
   "source": [
    "list(filter(lambda x: True if 'hola' in x else False, list_string))"
   ]
  },
  {
   "cell_type": "markdown",
   "id": "f99593f7",
   "metadata": {},
   "source": [
    "# Reduce\n",
    "### reduce(function, iterable)\n",
    "### la funcion debe recibir 2 variables o mas"
   ]
  },
  {
   "cell_type": "code",
   "execution_count": 32,
   "id": "9a7b99f4",
   "metadata": {},
   "outputs": [],
   "source": [
    "from functools import reduce"
   ]
  },
  {
   "cell_type": "code",
   "execution_count": 34,
   "id": "7db3d471",
   "metadata": {},
   "outputs": [],
   "source": [
    "def suma(a,b):\n",
    "    return a+b"
   ]
  },
  {
   "cell_type": "code",
   "execution_count": 35,
   "id": "4b2d99a8",
   "metadata": {},
   "outputs": [
    {
     "data": {
      "text/plain": [
       "[0, 1, 2, 3, 4, 5, 6, 7, 8, 9, 10, 11, 12, 13, 14]"
      ]
     },
     "execution_count": 35,
     "metadata": {},
     "output_type": "execute_result"
    }
   ],
   "source": [
    "numeros = [i for i in range(15)]\n",
    "numeros"
   ]
  },
  {
   "cell_type": "code",
   "execution_count": 36,
   "id": "4166d9d7",
   "metadata": {},
   "outputs": [
    {
     "data": {
      "text/plain": [
       "105"
      ]
     },
     "execution_count": 36,
     "metadata": {},
     "output_type": "execute_result"
    }
   ],
   "source": [
    "reduce(suma, numeros)"
   ]
  },
  {
   "cell_type": "code",
   "execution_count": 37,
   "id": "b707396f",
   "metadata": {},
   "outputs": [
    {
     "data": {
      "text/plain": [
       "105"
      ]
     },
     "execution_count": 37,
     "metadata": {},
     "output_type": "execute_result"
    }
   ],
   "source": [
    "sum(numeros)"
   ]
  },
  {
   "cell_type": "code",
   "execution_count": 39,
   "id": "f721d992",
   "metadata": {},
   "outputs": [
    {
     "data": {
      "text/plain": [
       "110"
      ]
     },
     "execution_count": 39,
     "metadata": {},
     "output_type": "execute_result"
    }
   ],
   "source": [
    "reduce(suma, numeros,5)# suma 5 al final"
   ]
  },
  {
   "cell_type": "code",
   "execution_count": 44,
   "id": "e2354315",
   "metadata": {},
   "outputs": [],
   "source": [
    "strings =['Hola','soy','Perla']"
   ]
  },
  {
   "cell_type": "code",
   "execution_count": 45,
   "id": "712be456",
   "metadata": {},
   "outputs": [
    {
     "data": {
      "text/plain": [
       "'Hola soy Perla'"
      ]
     },
     "execution_count": 45,
     "metadata": {},
     "output_type": "execute_result"
    }
   ],
   "source": [
    "reduce(lambda x, y: x +' '+y,strings)"
   ]
  },
  {
   "cell_type": "code",
   "execution_count": null,
   "id": "e7dbdfb6",
   "metadata": {},
   "outputs": [],
   "source": []
  }
 ],
 "metadata": {
  "kernelspec": {
   "display_name": "Python 3 (ipykernel)",
   "language": "python",
   "name": "python3"
  },
  "language_info": {
   "codemirror_mode": {
    "name": "ipython",
    "version": 3
   },
   "file_extension": ".py",
   "mimetype": "text/x-python",
   "name": "python",
   "nbconvert_exporter": "python",
   "pygments_lexer": "ipython3",
   "version": "3.9.6"
  }
 },
 "nbformat": 4,
 "nbformat_minor": 5
}
